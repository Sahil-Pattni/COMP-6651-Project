{
 "cells": [
  {
   "attachments": {},
   "cell_type": "markdown",
   "metadata": {},
   "source": [
    "# CBIP Study"
   ]
  },
  {
   "cell_type": "code",
   "execution_count": 1,
   "metadata": {},
   "outputs": [],
   "source": [
    "import numpy as np\n",
    "import pandas as pd\n",
    "import networkx as nx\n",
    "from tqdm import tqdm, trange\n",
    "from pyvis.network import Network\n",
    "from coloring.CBIP import cbip\n",
    "from utils import generate_k_colorable_graph"
   ]
  },
  {
   "cell_type": "markdown",
   "metadata": {},
   "source": [
    "### Specify parameters here"
   ]
  },
  {
   "cell_type": "code",
   "execution_count": 2,
   "metadata": {},
   "outputs": [],
   "source": [
    "N = 10    # Number of online k-colorable graphs to generate at each step\n",
    "n_range = range(100,1601,100)"
   ]
  },
  {
   "cell_type": "code",
   "execution_count": 3,
   "metadata": {},
   "outputs": [],
   "source": [
    "def convert_to_dataframe(data:list) -> pd.DataFrame:\n",
    "    df = pd.DataFrame(data, columns=['k', 'n', 'colors_used', 'ratio', 'N'])\n",
    "    return df"
   ]
  },
  {
   "cell_type": "code",
   "execution_count": 4,
   "metadata": {},
   "outputs": [
    {
     "name": "stderr",
     "output_type": "stream",
     "text": [
      " 50%|█████     | 8/16 [16:43<30:14, 226.85s/it]"
     ]
    }
   ],
   "source": [
    "# <k, n, colors_used, ratio, N>\n",
    "data = []\n",
    "for n in tqdm(n_range):\n",
    "    ratios = []\n",
    "    for _ in range(N):\n",
    "        # Initialize the graph\n",
    "        G = generate_k_colorable_graph(2, n, 0.9)\n",
    "\n",
    "        # Simulate online coloring\n",
    "        for idx in range(2, n+1):\n",
    "            subgraph = G.subgraph(range(idx))\n",
    "            try:\n",
    "                colors = cbip(subgraph)\n",
    "            except:\n",
    "                print('Skipping')\n",
    "                continue\n",
    "            # Color the graph\n",
    "            for node, color in colors.items():\n",
    "                G.nodes[node]['group'] = color\n",
    "            \n",
    "        # Determine the number of colors used\n",
    "        colors_used = len(set(colors.values()))\n",
    "\n",
    "        # Determine the ratio of colors used\n",
    "        ratio = colors_used / 2\n",
    "        ratios.append(ratio)\n",
    "\n",
    "    # Append the data\n",
    "    data.append([2, n, colors_used, np.mean(ratios), N])\n",
    "    # Save checkpoint\n",
    "    _df = convert_to_dataframe(data)\n",
    "    _df.to_feather(f'../data/cbip_checkpoint_2.ftr')\n",
    "\n",
    "# Save the data\n",
    "df = convert_to_dataframe(data)\n",
    "df.to_feather(f'../data/cbip_2.ftr')"
   ]
  },
  {
   "cell_type": "code",
   "execution_count": null,
   "metadata": {},
   "outputs": [],
   "source": []
  }
 ],
 "metadata": {
  "kernelspec": {
   "display_name": "Python 3",
   "language": "python",
   "name": "python3"
  },
  "language_info": {
   "codemirror_mode": {
    "name": "ipython",
    "version": 3
   },
   "file_extension": ".py",
   "mimetype": "text/x-python",
   "name": "python",
   "nbconvert_exporter": "python",
   "pygments_lexer": "ipython3",
   "version": "3.8.8"
  },
  "orig_nbformat": 4
 },
 "nbformat": 4,
 "nbformat_minor": 2
}
