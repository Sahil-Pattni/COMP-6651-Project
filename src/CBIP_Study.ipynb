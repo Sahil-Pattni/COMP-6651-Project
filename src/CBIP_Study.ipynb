{
 "cells": [
  {
   "attachments": {},
   "cell_type": "markdown",
   "metadata": {},
   "source": [
    "# CBIP Study"
   ]
  },
  {
   "cell_type": "code",
   "execution_count": 9,
   "metadata": {},
   "outputs": [
    {
     "ename": "ImportError",
     "evalue": "cannot import name 'CBIP' from 'coloring.CBIP' (c:\\Users\\pablo\\OneDrive\\Documents\\Concordia\\COMP 6651\\project\\github\\COMP-6651-Project\\src\\coloring\\CBIP.py)",
     "output_type": "error",
     "traceback": [
      "\u001b[1;31m---------------------------------------------------------------------------\u001b[0m",
      "\u001b[1;31mImportError\u001b[0m                               Traceback (most recent call last)",
      "Cell \u001b[1;32mIn[9], line 6\u001b[0m\n\u001b[0;32m      4\u001b[0m \u001b[39mfrom\u001b[39;00m \u001b[39mtqdm\u001b[39;00m \u001b[39mimport\u001b[39;00m tqdm, trange\n\u001b[0;32m      5\u001b[0m \u001b[39mfrom\u001b[39;00m \u001b[39mpyvis\u001b[39;00m\u001b[39m.\u001b[39;00m\u001b[39mnetwork\u001b[39;00m \u001b[39mimport\u001b[39;00m Network\n\u001b[1;32m----> 6\u001b[0m \u001b[39mfrom\u001b[39;00m \u001b[39mcoloring\u001b[39;00m\u001b[39m.\u001b[39;00m\u001b[39mCBIP\u001b[39;00m \u001b[39mimport\u001b[39;00m CBIP\n\u001b[0;32m      7\u001b[0m \u001b[39mfrom\u001b[39;00m \u001b[39mutils\u001b[39;00m \u001b[39mimport\u001b[39;00m generate_k_colorable_graph\n",
      "\u001b[1;31mImportError\u001b[0m: cannot import name 'CBIP' from 'coloring.CBIP' (c:\\Users\\pablo\\OneDrive\\Documents\\Concordia\\COMP 6651\\project\\github\\COMP-6651-Project\\src\\coloring\\CBIP.py)"
     ]
    }
   ],
   "source": [
    "import numpy as np\n",
    "import pandas as pd\n",
    "import networkx as nx\n",
    "from tqdm import tqdm, trange\n",
    "from pyvis.network import Network\n",
    "from coloring.CBIP import CBIP\n",
    "from utils import generate_k_colorable_graph"
   ]
  },
  {
   "cell_type": "markdown",
   "metadata": {},
   "source": [
    "### Specify parameters here"
   ]
  },
  {
   "cell_type": "code",
   "execution_count": 4,
   "metadata": {},
   "outputs": [],
   "source": [
    "N = 50    # Number of online k-colorable graphs to generate at each step"
   ]
  },
  {
   "cell_type": "code",
   "execution_count": 6,
   "metadata": {},
   "outputs": [
    {
     "name": "stderr",
     "output_type": "stream",
     "text": [
      "  0%|          | 0/8 [00:00<?, ?it/s]\n"
     ]
    },
    {
     "ename": "NameError",
     "evalue": "name 'CBIP' is not defined",
     "output_type": "error",
     "traceback": [
      "\u001b[1;31m---------------------------------------------------------------------------\u001b[0m",
      "\u001b[1;31mNameError\u001b[0m                                 Traceback (most recent call last)",
      "Cell \u001b[1;32mIn[6], line 13\u001b[0m\n\u001b[0;32m     11\u001b[0m G, _ \u001b[39m=\u001b[39m generate_k_colorable_graph(k, n, \u001b[39m0.7\u001b[39m)\n\u001b[0;32m     12\u001b[0m \u001b[39m# Color the graph\u001b[39;00m\n\u001b[1;32m---> 13\u001b[0m G_ \u001b[39m=\u001b[39m CBIP(G)\n\u001b[0;32m     14\u001b[0m \u001b[39m# Number of unqiue colors used\u001b[39;00m\n\u001b[0;32m     15\u001b[0m num_colors \u001b[39m=\u001b[39m \u001b[39mlen\u001b[39m(\u001b[39mset\u001b[39m([G_\u001b[39m.\u001b[39mnodes[i][\u001b[39m'\u001b[39m\u001b[39mgroup\u001b[39m\u001b[39m'\u001b[39m] \u001b[39mfor\u001b[39;00m i \u001b[39min\u001b[39;00m G_\u001b[39m.\u001b[39mnodes]))\n",
      "\u001b[1;31mNameError\u001b[0m: name 'CBIP' is not defined"
     ]
    }
   ],
   "source": [
    "# k, n, avg_comp_ratio, N\n",
    "study_results = []\n",
    "vertex_range = range(0,1500,100)[::2]\n",
    "# chromatic number\n",
    "for k in [2]:\n",
    "    # number of vertices\n",
    "    for n in tqdm(vertex_range):\n",
    "        ratios = []\n",
    "        for _ in range(N):\n",
    "            # Generate a k-colorable graph\n",
    "            G, _ = generate_k_colorable_graph(k, n, 0.7)\n",
    "            # Color the graph\n",
    "            G_ = CBIP(G)\n",
    "            # Number of unqiue colors used\n",
    "            num_colors = len(set([G_.nodes[i]['group'] for i in G_.nodes]))\n",
    "            # Ratio of colors used to chromatic number\n",
    "            ratio = num_colors / k\n",
    "            ratios.append(ratio)\n",
    "        \n",
    "        # Average ratio of colors used to chromatic number\n",
    "        avg_ratio = np.mean(ratios)\n",
    "        study_results.append((k, n, avg_ratio, N))\n",
    "\n",
    "        if n % 1000 == 0:\n",
    "            df = pd.DataFrame(study_results, columns=['k', 'n', 'avg_comp_ratio', 'N'])\n",
    "            df.to_feather(f'../data/CBIP_study_checkpoint.feather')\n"
   ]
  },
  {
   "cell_type": "code",
   "execution_count": null,
   "metadata": {},
   "outputs": [],
   "source": [
    "df = pd.DataFrame(study_results, columns=['k', 'n', 'avg_comp_ratio', 'N'])\n",
    "df.to_feather('../data/CBIP_study.feather')"
   ]
  },
  {
   "cell_type": "code",
   "execution_count": 3,
   "metadata": {},
   "outputs": [
    {
     "name": "stdout",
     "output_type": "stream",
     "text": [
      "Set 1: {1, 4}\n",
      "Set 2: {2, 3, 5}\n"
     ]
    }
   ],
   "source": [
    "# Create a graph\n",
    "G = nx.Graph()\n",
    "G.add_edges_from([(1, 2), (1, 3), (2, 4), (3, 4), (4, 5)])\n",
    "\n",
    "# Check if the graph is bipartite\n",
    "if nx.is_bipartite(G):\n",
    "    # Find a bipartition of the graph\n",
    "    bipartition = nx.bipartite.sets(G)\n",
    "\n",
    "    # Get the two sets of nodes in the bipartition\n",
    "    set1 = bipartition[0]\n",
    "    set2 = bipartition[1]\n",
    "\n",
    "    print(\"Set 1:\", set1)\n",
    "    print(\"Set 2:\", set2)\n",
    "else:\n",
    "    print(\"The graph is not bipartite.\")"
   ]
  },
  {
   "cell_type": "code",
   "execution_count": null,
   "metadata": {},
   "outputs": [],
   "source": []
  }
 ],
 "metadata": {
  "kernelspec": {
   "display_name": "Python 3",
   "language": "python",
   "name": "python3"
  },
  "language_info": {
   "codemirror_mode": {
    "name": "ipython",
    "version": 3
   },
   "file_extension": ".py",
   "mimetype": "text/x-python",
   "name": "python",
   "nbconvert_exporter": "python",
   "pygments_lexer": "ipython3",
   "version": "3.10.7"
  },
  "orig_nbformat": 4
 },
 "nbformat": 4,
 "nbformat_minor": 2
}
