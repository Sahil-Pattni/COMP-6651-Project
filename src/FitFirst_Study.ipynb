{
 "cells": [
  {
   "attachments": {},
   "cell_type": "markdown",
   "metadata": {},
   "source": [
    "# FitFirst Study"
   ]
  },
  {
   "cell_type": "code",
   "execution_count": 1,
   "metadata": {},
   "outputs": [],
   "source": [
    "import numpy as np\n",
    "import pandas as pd\n",
    "import networkx as nx\n",
    "from tqdm import tqdm, trange\n",
    "from pyvis.network import Network\n",
    "from coloring.fit_first import fit_first\n",
    "from utils import generate_k_colorable_graph"
   ]
  },
  {
   "attachments": {},
   "cell_type": "markdown",
   "metadata": {},
   "source": [
    "### Specify parameters here"
   ]
  },
  {
   "cell_type": "code",
   "execution_count": 2,
   "metadata": {},
   "outputs": [],
   "source": [
    "N = 50    # Number of online k-colorable graphs to generate at each step"
   ]
  },
  {
   "cell_type": "code",
   "execution_count": 8,
   "metadata": {},
   "outputs": [
    {
     "name": "stderr",
     "output_type": "stream",
     "text": [
      " 12%|█▎        | 1/8 [00:03<00:22,  3.27s/it]\n"
     ]
    },
    {
     "ename": "KeyboardInterrupt",
     "evalue": "",
     "output_type": "error",
     "traceback": [
      "\u001b[0;31m---------------------------------------------------------------------------\u001b[0m",
      "\u001b[0;31mValueError\u001b[0m                                Traceback (most recent call last)",
      "File \u001b[0;32m~/opt/anaconda3/envs/conuhacks/lib/python3.8/site-packages/networkx/drawing/layout.py:476\u001b[0m, in \u001b[0;36mspring_layout\u001b[0;34m(G, k, pos, fixed, iterations, threshold, weight, scale, center, dim, seed)\u001b[0m\n\u001b[1;32m    475\u001b[0m \u001b[39mif\u001b[39;00m \u001b[39mlen\u001b[39m(G) \u001b[39m<\u001b[39m \u001b[39m500\u001b[39m:  \u001b[39m# sparse solver for large graphs\u001b[39;00m\n\u001b[0;32m--> 476\u001b[0m     \u001b[39mraise\u001b[39;00m \u001b[39mValueError\u001b[39;00m\n\u001b[1;32m    477\u001b[0m A \u001b[39m=\u001b[39m nx\u001b[39m.\u001b[39mto_scipy_sparse_array(G, weight\u001b[39m=\u001b[39mweight, dtype\u001b[39m=\u001b[39m\u001b[39m\"\u001b[39m\u001b[39mf\u001b[39m\u001b[39m\"\u001b[39m)\n",
      "\u001b[0;31mValueError\u001b[0m: ",
      "\nDuring handling of the above exception, another exception occurred:\n",
      "\u001b[0;31mKeyboardInterrupt\u001b[0m                         Traceback (most recent call last)",
      "Cell \u001b[0;32mIn[8], line 11\u001b[0m\n\u001b[1;32m      8\u001b[0m ratios \u001b[39m=\u001b[39m []\n\u001b[1;32m      9\u001b[0m \u001b[39mfor\u001b[39;00m _ \u001b[39min\u001b[39;00m \u001b[39mrange\u001b[39m(N):\n\u001b[1;32m     10\u001b[0m     \u001b[39m# Generate a k-colorable graph\u001b[39;00m\n\u001b[0;32m---> 11\u001b[0m     G, _ \u001b[39m=\u001b[39m generate_k_colorable_graph(k, n, \u001b[39m0.7\u001b[39;49m)\n\u001b[1;32m     12\u001b[0m     \u001b[39m# Color the graph\u001b[39;00m\n\u001b[1;32m     13\u001b[0m     G_ \u001b[39m=\u001b[39m fit_first(G)\n",
      "File \u001b[0;32m~/Documents/Concordia/Semester 2/COMP 6651/Project/src/utils.py:42\u001b[0m, in \u001b[0;36mgenerate_k_colorable_graph\u001b[0;34m(k, n, p)\u001b[0m\n\u001b[1;32m     39\u001b[0m G\u001b[39m.\u001b[39madd_edges_from(edges)\n\u001b[1;32m     41\u001b[0m \u001b[39m# Return the graph and the layout\u001b[39;00m\n\u001b[0;32m---> 42\u001b[0m \u001b[39mreturn\u001b[39;00m G, nx\u001b[39m.\u001b[39;49mspring_layout(G, scale\u001b[39m=\u001b[39;49mn\u001b[39m*\u001b[39;49m\u001b[39m15\u001b[39;49m)\n",
      "File \u001b[0;32m<class 'networkx.utils.decorators.argmap'> compilation 4:4\u001b[0m, in \u001b[0;36margmap_spring_layout_1\u001b[0;34m(G, k, pos, fixed, iterations, threshold, weight, scale, center, dim, seed)\u001b[0m\n\u001b[1;32m      2\u001b[0m \u001b[39mimport\u001b[39;00m \u001b[39mcollections\u001b[39;00m\n\u001b[1;32m      3\u001b[0m \u001b[39mimport\u001b[39;00m \u001b[39mgzip\u001b[39;00m\n\u001b[0;32m----> 4\u001b[0m \u001b[39mimport\u001b[39;00m \u001b[39minspect\u001b[39;00m\n\u001b[1;32m      5\u001b[0m \u001b[39mimport\u001b[39;00m \u001b[39mitertools\u001b[39;00m\n\u001b[1;32m      6\u001b[0m \u001b[39mimport\u001b[39;00m \u001b[39mre\u001b[39;00m\n",
      "File \u001b[0;32m~/opt/anaconda3/envs/conuhacks/lib/python3.8/site-packages/networkx/drawing/layout.py:486\u001b[0m, in \u001b[0;36mspring_layout\u001b[0;34m(G, k, pos, fixed, iterations, threshold, weight, scale, center, dim, seed)\u001b[0m\n\u001b[1;32m    482\u001b[0m     pos \u001b[39m=\u001b[39m _sparse_fruchterman_reingold(\n\u001b[1;32m    483\u001b[0m         A, k, pos_arr, fixed, iterations, threshold, dim, seed\n\u001b[1;32m    484\u001b[0m     )\n\u001b[1;32m    485\u001b[0m \u001b[39mexcept\u001b[39;00m \u001b[39mValueError\u001b[39;00m:\n\u001b[0;32m--> 486\u001b[0m     A \u001b[39m=\u001b[39m nx\u001b[39m.\u001b[39;49mto_numpy_array(G, weight\u001b[39m=\u001b[39;49mweight)\n\u001b[1;32m    487\u001b[0m     \u001b[39mif\u001b[39;00m k \u001b[39mis\u001b[39;00m \u001b[39mNone\u001b[39;00m \u001b[39mand\u001b[39;00m fixed \u001b[39mis\u001b[39;00m \u001b[39mnot\u001b[39;00m \u001b[39mNone\u001b[39;00m:\n\u001b[1;32m    488\u001b[0m         \u001b[39m# We must adjust k by domain size for layouts not near 1x1\u001b[39;00m\n\u001b[1;32m    489\u001b[0m         nnodes, _ \u001b[39m=\u001b[39m A\u001b[39m.\u001b[39mshape\n",
      "File \u001b[0;32m~/opt/anaconda3/envs/conuhacks/lib/python3.8/site-packages/networkx/convert_matrix.py:997\u001b[0m, in \u001b[0;36mto_numpy_array\u001b[0;34m(G, nodelist, dtype, order, multigraph_weight, weight, nonedge)\u001b[0m\n\u001b[1;32m    995\u001b[0m A[i, j] \u001b[39m=\u001b[39m wts\n\u001b[1;32m    996\u001b[0m \u001b[39mif\u001b[39;00m \u001b[39mnot\u001b[39;00m G\u001b[39m.\u001b[39mis_directed():\n\u001b[0;32m--> 997\u001b[0m     A[j, i] \u001b[39m=\u001b[39m wts\n\u001b[1;32m    999\u001b[0m \u001b[39mreturn\u001b[39;00m A\n",
      "\u001b[0;31mKeyboardInterrupt\u001b[0m: "
     ]
    }
   ],
   "source": [
    "# k, n, avg_comp_ratio, N\n",
    "study_results = []\n",
    "vertex_range = range(0,1500,100)[::2]\n",
    "# chromatic number\n",
    "for k in [2,3,4]:\n",
    "    # number of vertices\n",
    "    for n in tqdm(vertex_range):\n",
    "        ratios = []\n",
    "        for _ in range(N):\n",
    "            # Generate a k-colorable graph\n",
    "            G, _ = generate_k_colorable_graph(k, n, 0.7)\n",
    "            # Color the graph\n",
    "            G_ = fit_first(G)\n",
    "            # Number of unqiue colors used\n",
    "            num_colors = len(set([G_.nodes[i]['group'] for i in G_.nodes]))\n",
    "            # Ratio of colors used to chromatic number\n",
    "            ratio = num_colors / k\n",
    "            ratios.append(ratio)\n",
    "        \n",
    "        # Average ratio of colors used to chromatic number\n",
    "        avg_ratio = np.mean(ratios)\n",
    "        study_results.append((k, n, avg_ratio, N))\n",
    "\n",
    "        if True:\n",
    "            df = pd.DataFrame(study_results, columns=['k', 'n', 'avg_comp_ratio', 'N'])\n",
    "            df.to_feather(f'../data/fit_first_study_checkpoint_{n}.feather')\n"
   ]
  },
  {
   "cell_type": "code",
   "execution_count": null,
   "metadata": {},
   "outputs": [
    {
     "data": {
      "text/html": [
       "<div>\n",
       "<style scoped>\n",
       "    .dataframe tbody tr th:only-of-type {\n",
       "        vertical-align: middle;\n",
       "    }\n",
       "\n",
       "    .dataframe tbody tr th {\n",
       "        vertical-align: top;\n",
       "    }\n",
       "\n",
       "    .dataframe thead th {\n",
       "        text-align: right;\n",
       "    }\n",
       "</style>\n",
       "<table border=\"1\" class=\"dataframe\">\n",
       "  <thead>\n",
       "    <tr style=\"text-align: right;\">\n",
       "      <th></th>\n",
       "      <th>k</th>\n",
       "      <th>n</th>\n",
       "      <th>avg_comp_ratio</th>\n",
       "      <th>N</th>\n",
       "    </tr>\n",
       "  </thead>\n",
       "  <tbody>\n",
       "    <tr>\n",
       "      <th>0</th>\n",
       "      <td>2</td>\n",
       "      <td>50</td>\n",
       "      <td>1.300000</td>\n",
       "      <td>10</td>\n",
       "    </tr>\n",
       "    <tr>\n",
       "      <th>1</th>\n",
       "      <td>3</td>\n",
       "      <td>50</td>\n",
       "      <td>1.333333</td>\n",
       "      <td>10</td>\n",
       "    </tr>\n",
       "    <tr>\n",
       "      <th>2</th>\n",
       "      <td>4</td>\n",
       "      <td>50</td>\n",
       "      <td>1.775000</td>\n",
       "      <td>10</td>\n",
       "    </tr>\n",
       "  </tbody>\n",
       "</table>\n",
       "</div>"
      ],
      "text/plain": [
       "   k   n  avg_comp_ratio   N\n",
       "0  2  50        1.300000  10\n",
       "1  3  50        1.333333  10\n",
       "2  4  50        1.775000  10"
      ]
     },
     "execution_count": 13,
     "metadata": {},
     "output_type": "execute_result"
    }
   ],
   "source": [
    "df = pd.DataFrame(study_results, columns=['k', 'n', 'avg_comp_ratio', 'N'])\n",
    "df.to_feather('../data/fit_first_study.feather')"
   ]
  },
  {
   "cell_type": "code",
   "execution_count": null,
   "metadata": {},
   "outputs": [],
   "source": []
  }
 ],
 "metadata": {
  "kernelspec": {
   "display_name": "conuhacks",
   "language": "python",
   "name": "python3"
  },
  "language_info": {
   "codemirror_mode": {
    "name": "ipython",
    "version": 3
   },
   "file_extension": ".py",
   "mimetype": "text/x-python",
   "name": "python",
   "nbconvert_exporter": "python",
   "pygments_lexer": "ipython3",
   "version": "3.8.8"
  },
  "orig_nbformat": 4
 },
 "nbformat": 4,
 "nbformat_minor": 2
}
