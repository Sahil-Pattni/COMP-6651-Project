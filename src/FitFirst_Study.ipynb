{
 "cells": [
  {
   "attachments": {},
   "cell_type": "markdown",
   "metadata": {},
   "source": [
    "# FitFirst Study"
   ]
  },
  {
   "cell_type": "code",
   "execution_count": 1,
   "metadata": {},
   "outputs": [],
   "source": [
    "import numpy as np\n",
    "import pandas as pd\n",
    "import networkx as nx\n",
    "from tqdm import tqdm, trange\n",
    "from pyvis.network import Network\n",
    "from coloring.fit_first import fit_first\n",
    "from utils import generate_k_colorable_graph"
   ]
  },
  {
   "attachments": {},
   "cell_type": "markdown",
   "metadata": {},
   "source": [
    "### Specify parameters here"
   ]
  },
  {
   "cell_type": "code",
   "execution_count": 2,
   "metadata": {},
   "outputs": [],
   "source": [
    "N = 50    # Number of online k-colorable graphs to generate at each step"
   ]
  },
  {
   "cell_type": "code",
   "execution_count": 5,
   "metadata": {},
   "outputs": [
    {
     "name": "stderr",
     "output_type": "stream",
     "text": [
      "  3%|▎         | 1/30 [00:04<02:17,  4.74s/it]\n"
     ]
    },
    {
     "ename": "KeyboardInterrupt",
     "evalue": "",
     "output_type": "error",
     "traceback": [
      "\u001b[0;31m---------------------------------------------------------------------------\u001b[0m",
      "\u001b[0;31mKeyboardInterrupt\u001b[0m                         Traceback (most recent call last)",
      "Cell \u001b[0;32mIn[5], line 13\u001b[0m\n\u001b[1;32m     11\u001b[0m G, _ \u001b[39m=\u001b[39m generate_k_colorable_graph(k, n, \u001b[39m0.7\u001b[39m)\n\u001b[1;32m     12\u001b[0m \u001b[39m# Color the graph\u001b[39;00m\n\u001b[0;32m---> 13\u001b[0m G_ \u001b[39m=\u001b[39m fit_first(G)\n\u001b[1;32m     14\u001b[0m \u001b[39m# Number of unqiue colors used\u001b[39;00m\n\u001b[1;32m     15\u001b[0m num_colors \u001b[39m=\u001b[39m \u001b[39mlen\u001b[39m(\u001b[39mset\u001b[39m([G_\u001b[39m.\u001b[39mnodes[i][\u001b[39m'\u001b[39m\u001b[39mgroup\u001b[39m\u001b[39m'\u001b[39m] \u001b[39mfor\u001b[39;00m i \u001b[39min\u001b[39;00m G_\u001b[39m.\u001b[39mnodes]))\n",
      "File \u001b[0;32m~/Documents/Concordia/Semester 2/COMP 6651/Project/src/coloring/fit_first.py:24\u001b[0m, in \u001b[0;36mfit_first\u001b[0;34m(G)\u001b[0m\n\u001b[1;32m     22\u001b[0m \u001b[39m# Default color is -1\u001b[39;00m\n\u001b[1;32m     23\u001b[0m neighbor_colors \u001b[39m=\u001b[39m defaultdict(\u001b[39mlambda\u001b[39;00m: \u001b[39m-\u001b[39m\u001b[39m1\u001b[39m)\n\u001b[0;32m---> 24\u001b[0m available_colors \u001b[39m=\u001b[39m \u001b[39mlist\u001b[39m(\u001b[39mrange\u001b[39;49m(\u001b[39mlen\u001b[39m(G)))\n\u001b[1;32m     25\u001b[0m \u001b[39mfor\u001b[39;00m node \u001b[39min\u001b[39;00m nodes:\n\u001b[1;32m     26\u001b[0m     \u001b[39m# Find the colors of neighboring nodes\u001b[39;00m\n\u001b[1;32m     27\u001b[0m     neighbor_colors \u001b[39m=\u001b[39m {G\u001b[39m.\u001b[39mnodes[n]\u001b[39m.\u001b[39mget(\u001b[39m'\u001b[39m\u001b[39mgroup\u001b[39m\u001b[39m'\u001b[39m, \u001b[39m-\u001b[39m\u001b[39m1\u001b[39m) \u001b[39mfor\u001b[39;00m n \u001b[39min\u001b[39;00m G\u001b[39m.\u001b[39mneighbors(node)}\n",
      "\u001b[0;31mKeyboardInterrupt\u001b[0m: "
     ]
    }
   ],
   "source": [
    "# k, n, avg_comp_ratio, N\n",
    "study_results = []\n",
    "\n",
    "# chromatic number\n",
    "for k in [2,3,4]:\n",
    "    # number of vertices\n",
    "    for n in trange(1500,3001,100):\n",
    "        ratios = []\n",
    "        for _ in range(N):\n",
    "            # Generate a k-colorable graph\n",
    "            G, _ = generate_k_colorable_graph(k, n, 0.7)\n",
    "            # Color the graph\n",
    "            G_ = fit_first(G)\n",
    "            # Number of unqiue colors used\n",
    "            num_colors = len(set([G_.nodes[i]['group'] for i in G_.nodes]))\n",
    "            # Ratio of colors used to chromatic number\n",
    "            ratio = num_colors / k\n",
    "            ratios.append(ratio)\n",
    "        \n",
    "        # Average ratio of colors used to chromatic number\n",
    "        avg_ratio = np.mean(ratios)\n",
    "        study_results.append((k, n, avg_ratio, N))\n",
    "\n",
    "        if True:\n",
    "            df = pd.DataFrame(study_results, columns=['k', 'n', 'avg_comp_ratio', 'N'])\n",
    "            df.to_feather(f'../data/fit_first_study_checkpoint_{n}.feather')\n"
   ]
  },
  {
   "cell_type": "code",
   "execution_count": null,
   "metadata": {},
   "outputs": [
    {
     "data": {
      "text/html": [
       "<div>\n",
       "<style scoped>\n",
       "    .dataframe tbody tr th:only-of-type {\n",
       "        vertical-align: middle;\n",
       "    }\n",
       "\n",
       "    .dataframe tbody tr th {\n",
       "        vertical-align: top;\n",
       "    }\n",
       "\n",
       "    .dataframe thead th {\n",
       "        text-align: right;\n",
       "    }\n",
       "</style>\n",
       "<table border=\"1\" class=\"dataframe\">\n",
       "  <thead>\n",
       "    <tr style=\"text-align: right;\">\n",
       "      <th></th>\n",
       "      <th>k</th>\n",
       "      <th>n</th>\n",
       "      <th>avg_comp_ratio</th>\n",
       "      <th>N</th>\n",
       "    </tr>\n",
       "  </thead>\n",
       "  <tbody>\n",
       "    <tr>\n",
       "      <th>0</th>\n",
       "      <td>2</td>\n",
       "      <td>50</td>\n",
       "      <td>1.300000</td>\n",
       "      <td>10</td>\n",
       "    </tr>\n",
       "    <tr>\n",
       "      <th>1</th>\n",
       "      <td>3</td>\n",
       "      <td>50</td>\n",
       "      <td>1.333333</td>\n",
       "      <td>10</td>\n",
       "    </tr>\n",
       "    <tr>\n",
       "      <th>2</th>\n",
       "      <td>4</td>\n",
       "      <td>50</td>\n",
       "      <td>1.775000</td>\n",
       "      <td>10</td>\n",
       "    </tr>\n",
       "  </tbody>\n",
       "</table>\n",
       "</div>"
      ],
      "text/plain": [
       "   k   n  avg_comp_ratio   N\n",
       "0  2  50        1.300000  10\n",
       "1  3  50        1.333333  10\n",
       "2  4  50        1.775000  10"
      ]
     },
     "execution_count": 13,
     "metadata": {},
     "output_type": "execute_result"
    }
   ],
   "source": [
    "df = pd.DataFrame(study_results, columns=['k', 'n', 'avg_comp_ratio', 'N'])\n",
    "df.to_feather('data/fit_first_study.feather')"
   ]
  },
  {
   "cell_type": "code",
   "execution_count": null,
   "metadata": {},
   "outputs": [],
   "source": []
  }
 ],
 "metadata": {
  "kernelspec": {
   "display_name": "conuhacks",
   "language": "python",
   "name": "python3"
  },
  "language_info": {
   "codemirror_mode": {
    "name": "ipython",
    "version": 3
   },
   "file_extension": ".py",
   "mimetype": "text/x-python",
   "name": "python",
   "nbconvert_exporter": "python",
   "pygments_lexer": "ipython3",
   "version": "3.8.8"
  },
  "orig_nbformat": 4
 },
 "nbformat": 4,
 "nbformat_minor": 2
}
