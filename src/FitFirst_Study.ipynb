{
 "cells": [
  {
   "attachments": {},
   "cell_type": "markdown",
   "metadata": {},
   "source": [
    "# FitFirst Study"
   ]
  },
  {
   "cell_type": "code",
   "execution_count": null,
   "metadata": {},
   "outputs": [],
   "source": [
    "import numpy as np\n",
    "import pandas as pd\n",
    "import networkx as nx\n",
    "from tqdm import tqdm, trange\n",
    "from pyvis.network import Network\n",
    "from coloring.fit_first import fit_first\n",
    "from utils import generate_k_colorable_graph"
   ]
  },
  {
   "attachments": {},
   "cell_type": "markdown",
   "metadata": {},
   "source": [
    "### Specify parameters here"
   ]
  },
  {
   "cell_type": "code",
   "execution_count": null,
   "metadata": {},
   "outputs": [],
   "source": [
    "N = 50    # Number of online k-colorable graphs to generate at each step"
   ]
  },
  {
   "cell_type": "code",
   "execution_count": 9,
   "metadata": {},
   "outputs": [
    {
     "name": "stderr",
     "output_type": "stream",
     "text": [
      " 29%|██▊       | 2/7 [01:17<03:14, 38.85s/it]\n"
     ]
    },
    {
     "ename": "KeyboardInterrupt",
     "evalue": "",
     "output_type": "error",
     "traceback": [
      "\u001b[0;31m---------------------------------------------------------------------------\u001b[0m",
      "\u001b[0;31mKeyboardInterrupt\u001b[0m                         Traceback (most recent call last)",
      "Cell \u001b[0;32mIn[9], line 11\u001b[0m\n\u001b[1;32m      8\u001b[0m ratios \u001b[39m=\u001b[39m []\n\u001b[1;32m      9\u001b[0m \u001b[39mfor\u001b[39;00m _ \u001b[39min\u001b[39;00m \u001b[39mrange\u001b[39m(N):\n\u001b[1;32m     10\u001b[0m     \u001b[39m# Generate a k-colorable graph\u001b[39;00m\n\u001b[0;32m---> 11\u001b[0m     G, _ \u001b[39m=\u001b[39m generate_k_colorable_graph(k, n, \u001b[39m0.7\u001b[39;49m)\n\u001b[1;32m     12\u001b[0m     \u001b[39m# Color the graph\u001b[39;00m\n\u001b[1;32m     13\u001b[0m     G_ \u001b[39m=\u001b[39m fit_first(G)\n",
      "File \u001b[0;32m~/Documents/Concordia/Semester 2/COMP 6651/Project/src/utils.py:39\u001b[0m, in \u001b[0;36mgenerate_k_colorable_graph\u001b[0;34m(k, n, p)\u001b[0m\n\u001b[1;32m     37\u001b[0m \u001b[39m# Add edges to the graph\u001b[39;00m\n\u001b[1;32m     38\u001b[0m edges \u001b[39m=\u001b[39m np\u001b[39m.\u001b[39marray(pairs)\u001b[39m.\u001b[39mT[should_add_edge]\n\u001b[0;32m---> 39\u001b[0m G\u001b[39m.\u001b[39;49madd_edges_from(edges)\n\u001b[1;32m     41\u001b[0m \u001b[39m# Return the graph and the layout\u001b[39;00m\n\u001b[1;32m     42\u001b[0m \u001b[39mreturn\u001b[39;00m G, nx\u001b[39m.\u001b[39mspring_layout(G, scale\u001b[39m=\u001b[39mn\u001b[39m*\u001b[39m\u001b[39m15\u001b[39m)\n",
      "File \u001b[0;32m~/opt/anaconda3/envs/conuhacks/lib/python3.8/site-packages/networkx/classes/graph.py:1038\u001b[0m, in \u001b[0;36mGraph.add_edges_from\u001b[0;34m(self, ebunch_to_add, **attr)\u001b[0m\n\u001b[1;32m   1036\u001b[0m datadict\u001b[39m.\u001b[39mupdate(attr)\n\u001b[1;32m   1037\u001b[0m datadict\u001b[39m.\u001b[39mupdate(dd)\n\u001b[0;32m-> 1038\u001b[0m \u001b[39mself\u001b[39;49m\u001b[39m.\u001b[39;49m_adj[u][v] \u001b[39m=\u001b[39m datadict\n\u001b[1;32m   1039\u001b[0m \u001b[39mself\u001b[39m\u001b[39m.\u001b[39m_adj[v][u] \u001b[39m=\u001b[39m datadict\n",
      "\u001b[0;31mKeyboardInterrupt\u001b[0m: "
     ]
    }
   ],
   "source": [
    "# k, n, avg_comp_ratio, N\n",
    "study_results = []\n",
    "vertex_range = range(0,1500,100)[::2]\n",
    "# chromatic number\n",
    "for k in [2,3,4]:\n",
    "    # number of vertices\n",
    "    for n in tqdm(vertex_range):\n",
    "        ratios = []\n",
    "        for _ in range(N):\n",
    "            # Generate a k-colorable graph\n",
    "            G, _ = generate_k_colorable_graph(k, n, 0.7)\n",
    "            # Color the graph\n",
    "            G_ = fit_first(G)\n",
    "            # Number of unqiue colors used\n",
    "            num_colors = len(set([G_.nodes[i]['group'] for i in G_.nodes]))\n",
    "            # Ratio of colors used to chromatic number\n",
    "            ratio = num_colors / k\n",
    "            ratios.append(ratio)\n",
    "        \n",
    "        # Average ratio of colors used to chromatic number\n",
    "        avg_ratio = np.mean(ratios)\n",
    "        study_results.append((k, n, avg_ratio, N))\n",
    "\n",
    "        if n % 1000 == 0:\n",
    "            df = pd.DataFrame(study_results, columns=['k', 'n', 'avg_comp_ratio', 'N'])\n",
    "            df.to_feather(f'../data/fit_first_study_checkpoint.feather')\n"
   ]
  },
  {
   "cell_type": "code",
   "execution_count": null,
   "metadata": {},
   "outputs": [],
   "source": [
    "df = pd.DataFrame(study_results, columns=['k', 'n', 'avg_comp_ratio', 'N'])\n",
    "df.to_feather('../data/fit_first_study.feather')"
   ]
  },
  {
   "cell_type": "code",
   "execution_count": null,
   "metadata": {},
   "outputs": [],
   "source": []
  }
 ],
 "metadata": {
  "kernelspec": {
   "display_name": "conuhacks",
   "language": "python",
   "name": "python3"
  },
  "language_info": {
   "codemirror_mode": {
    "name": "ipython",
    "version": 3
   },
   "file_extension": ".py",
   "mimetype": "text/x-python",
   "name": "python",
   "nbconvert_exporter": "python",
   "pygments_lexer": "ipython3",
   "version": "3.8.8"
  },
  "orig_nbformat": 4
 },
 "nbformat": 4,
 "nbformat_minor": 2
}
